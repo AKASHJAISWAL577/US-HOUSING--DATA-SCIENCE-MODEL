{
 "cells": [
  {
   "cell_type": "markdown",
   "id": "98a3242c",
   "metadata": {},
   "source": [
    "# Model Training"
   ]
  },
  {
   "cell_type": "markdown",
   "id": "572e7dc3",
   "metadata": {},
   "source": [
    "# Data Reading"
   ]
  },
  {
   "cell_type": "code",
   "execution_count": 1,
   "id": "066d07b1",
   "metadata": {},
   "outputs": [],
   "source": [
    "import pandas as pd\n",
    "import numpy as np\n",
    "from sklearn.model_selection import train_test_split, cross_val_score\n",
    "from sklearn.linear_model import LassoCV\n",
    "from sklearn.metrics import mean_squared_error, r2_score"
   ]
  },
  {
   "cell_type": "code",
   "execution_count": 2,
   "id": "4655ec72",
   "metadata": {},
   "outputs": [],
   "source": [
    "df = pd.read_csv(\"FINAL_DATA.csv\")"
   ]
  },
  {
   "cell_type": "code",
   "execution_count": 3,
   "id": "10b3001f",
   "metadata": {},
   "outputs": [
    {
     "data": {
      "text/html": [
       "<div>\n",
       "<style scoped>\n",
       "    .dataframe tbody tr th:only-of-type {\n",
       "        vertical-align: middle;\n",
       "    }\n",
       "\n",
       "    .dataframe tbody tr th {\n",
       "        vertical-align: top;\n",
       "    }\n",
       "\n",
       "    .dataframe thead th {\n",
       "        text-align: right;\n",
       "    }\n",
       "</style>\n",
       "<table border=\"1\" class=\"dataframe\">\n",
       "  <thead>\n",
       "    <tr style=\"text-align: right;\">\n",
       "      <th></th>\n",
       "      <th>DATE</th>\n",
       "      <th>p_saving_rate</th>\n",
       "      <th>target</th>\n",
       "      <th>mortgage_rate</th>\n",
       "      <th>permit</th>\n",
       "      <th>population</th>\n",
       "      <th>new_private_house</th>\n",
       "      <th>emratio</th>\n",
       "      <th>income</th>\n",
       "      <th>GDP</th>\n",
       "      <th>home_ow_rate</th>\n",
       "      <th>house_st</th>\n",
       "      <th>total_emp_cons</th>\n",
       "      <th>labor_percent</th>\n",
       "      <th>all_Const_Emp</th>\n",
       "      <th>monthly_supply</th>\n",
       "      <th>unemployed_rate</th>\n",
       "      <th>MSPUS</th>\n",
       "    </tr>\n",
       "  </thead>\n",
       "  <tbody>\n",
       "    <tr>\n",
       "      <th>0</th>\n",
       "      <td>01-01-1987</td>\n",
       "      <td>9.4</td>\n",
       "      <td>63.735</td>\n",
       "      <td>9.2040</td>\n",
       "      <td>1690</td>\n",
       "      <td>241857</td>\n",
       "      <td>7974.739004</td>\n",
       "      <td>61.0</td>\n",
       "      <td>3820.2</td>\n",
       "      <td>4722.156</td>\n",
       "      <td>63.9</td>\n",
       "      <td>1774</td>\n",
       "      <td>5007</td>\n",
       "      <td>65.4</td>\n",
       "      <td>722.3</td>\n",
       "      <td>6.0</td>\n",
       "      <td>6.6</td>\n",
       "      <td>97900</td>\n",
       "    </tr>\n",
       "    <tr>\n",
       "      <th>1</th>\n",
       "      <td>01-02-1987</td>\n",
       "      <td>8.2</td>\n",
       "      <td>64.135</td>\n",
       "      <td>9.0825</td>\n",
       "      <td>1689</td>\n",
       "      <td>242005</td>\n",
       "      <td>7502.244305</td>\n",
       "      <td>61.1</td>\n",
       "      <td>3845.0</td>\n",
       "      <td>4722.156</td>\n",
       "      <td>63.9</td>\n",
       "      <td>1784</td>\n",
       "      <td>5038</td>\n",
       "      <td>65.5</td>\n",
       "      <td>724.2</td>\n",
       "      <td>6.2</td>\n",
       "      <td>6.6</td>\n",
       "      <td>97900</td>\n",
       "    </tr>\n",
       "    <tr>\n",
       "      <th>2</th>\n",
       "      <td>01-03-1987</td>\n",
       "      <td>8.1</td>\n",
       "      <td>64.470</td>\n",
       "      <td>9.0350</td>\n",
       "      <td>1704</td>\n",
       "      <td>242166</td>\n",
       "      <td>7106.570176</td>\n",
       "      <td>61.2</td>\n",
       "      <td>3863.8</td>\n",
       "      <td>4722.156</td>\n",
       "      <td>63.9</td>\n",
       "      <td>1726</td>\n",
       "      <td>5039</td>\n",
       "      <td>65.5</td>\n",
       "      <td>727.9</td>\n",
       "      <td>6.0</td>\n",
       "      <td>6.6</td>\n",
       "      <td>97900</td>\n",
       "    </tr>\n",
       "    <tr>\n",
       "      <th>3</th>\n",
       "      <td>01-04-1987</td>\n",
       "      <td>4.1</td>\n",
       "      <td>64.973</td>\n",
       "      <td>9.8325</td>\n",
       "      <td>1601</td>\n",
       "      <td>242338</td>\n",
       "      <td>7316.773819</td>\n",
       "      <td>61.3</td>\n",
       "      <td>3875.4</td>\n",
       "      <td>4806.160</td>\n",
       "      <td>63.9</td>\n",
       "      <td>1614</td>\n",
       "      <td>5053</td>\n",
       "      <td>65.4</td>\n",
       "      <td>728.1</td>\n",
       "      <td>6.0</td>\n",
       "      <td>6.3</td>\n",
       "      <td>103400</td>\n",
       "    </tr>\n",
       "    <tr>\n",
       "      <th>4</th>\n",
       "      <td>01-05-1987</td>\n",
       "      <td>7.8</td>\n",
       "      <td>65.547</td>\n",
       "      <td>10.5960</td>\n",
       "      <td>1500</td>\n",
       "      <td>242516</td>\n",
       "      <td>7203.844501</td>\n",
       "      <td>61.6</td>\n",
       "      <td>3908.6</td>\n",
       "      <td>4806.160</td>\n",
       "      <td>63.9</td>\n",
       "      <td>1628</td>\n",
       "      <td>5080</td>\n",
       "      <td>65.7</td>\n",
       "      <td>727.6</td>\n",
       "      <td>6.7</td>\n",
       "      <td>6.3</td>\n",
       "      <td>103400</td>\n",
       "    </tr>\n",
       "  </tbody>\n",
       "</table>\n",
       "</div>"
      ],
      "text/plain": [
       "         DATE  p_saving_rate  target  mortgage_rate  permit  population  \\\n",
       "0  01-01-1987            9.4  63.735         9.2040    1690      241857   \n",
       "1  01-02-1987            8.2  64.135         9.0825    1689      242005   \n",
       "2  01-03-1987            8.1  64.470         9.0350    1704      242166   \n",
       "3  01-04-1987            4.1  64.973         9.8325    1601      242338   \n",
       "4  01-05-1987            7.8  65.547        10.5960    1500      242516   \n",
       "\n",
       "   new_private_house  emratio  income       GDP  home_ow_rate  house_st  \\\n",
       "0        7974.739004     61.0  3820.2  4722.156          63.9      1774   \n",
       "1        7502.244305     61.1  3845.0  4722.156          63.9      1784   \n",
       "2        7106.570176     61.2  3863.8  4722.156          63.9      1726   \n",
       "3        7316.773819     61.3  3875.4  4806.160          63.9      1614   \n",
       "4        7203.844501     61.6  3908.6  4806.160          63.9      1628   \n",
       "\n",
       "   total_emp_cons  labor_percent  all_Const_Emp  monthly_supply  \\\n",
       "0            5007           65.4          722.3             6.0   \n",
       "1            5038           65.5          724.2             6.2   \n",
       "2            5039           65.5          727.9             6.0   \n",
       "3            5053           65.4          728.1             6.0   \n",
       "4            5080           65.7          727.6             6.7   \n",
       "\n",
       "   unemployed_rate   MSPUS  \n",
       "0              6.6   97900  \n",
       "1              6.6   97900  \n",
       "2              6.6   97900  \n",
       "3              6.3  103400  \n",
       "4              6.3  103400  "
      ]
     },
     "execution_count": 3,
     "metadata": {},
     "output_type": "execute_result"
    }
   ],
   "source": [
    "df.head()"
   ]
  },
  {
   "cell_type": "markdown",
   "id": "55d8a40a",
   "metadata": {},
   "source": [
    "# Data splitting and Scaling"
   ]
  },
  {
   "cell_type": "code",
   "execution_count": 4,
   "id": "f7d1d394",
   "metadata": {},
   "outputs": [],
   "source": [
    "X = df.drop(columns=['DATE', 'target'], axis=1)\n",
    "y = df.target"
   ]
  },
  {
   "cell_type": "code",
   "execution_count": 5,
   "id": "9f575b31",
   "metadata": {},
   "outputs": [],
   "source": [
    "X_train, X_test , y_train, y_test = train_test_split(X, y, test_size=0.2, random_state=42)"
   ]
  },
  {
   "cell_type": "code",
   "execution_count": 10,
   "id": "2ab5c889",
   "metadata": {},
   "outputs": [],
   "source": [
    "from sklearn.preprocessing import StandardScaler\n",
    "import warnings\n",
    "warnings.simplefilter(\"ignore\", category=ConvergenceWarning)\n",
    "scaler = StandardScaler()\n",
    "X_train = scaler.fit_transform(X_train)\n",
    "X_test = scaler.transform(X_test)"
   ]
  },
  {
   "cell_type": "markdown",
   "id": "13171289",
   "metadata": {},
   "source": [
    "# Model Training"
   ]
  },
  {
   "cell_type": "code",
   "execution_count": 11,
   "id": "811ea748",
   "metadata": {},
   "outputs": [],
   "source": [
    "lasso_cv_model = LassoCV(alphas=np.logspace(-4, 4, 100), cv=5)\n",
    "\n",
    "lasso_cv_model.fit(X_train, y_train)\n",
    "\n",
    "lasso_cv_predictions = lasso_cv_model.predict(X_test)"
   ]
  },
  {
   "cell_type": "code",
   "execution_count": 13,
   "id": "30c89994",
   "metadata": {},
   "outputs": [
    {
     "name": "stdout",
     "output_type": "stream",
     "text": [
      "Optimal Alpha: 0.0126\n",
      "Mean Squared Error (MSE): 16.49\n",
      "RMSE: 4.060669\n",
      "R-squared (R2): 0.99\n"
     ]
    }
   ],
   "source": [
    "optimal_alpha = lasso_cv_model.alpha_\n",
    "\n",
    "mse = mean_squared_error(y_test, lasso_cv_predictions)\n",
    "\n",
    "rmse = np.sqrt(mse)\n",
    "\n",
    "r2 = r2_score(y_test, lasso_cv_predictions)\n",
    "\n",
    "print(f\"Optimal Alpha: {optimal_alpha:.4f}\")\n",
    "print(F\"Mean Squared Error (MSE): {mse:.2f}\")\n",
    "print(f\"RMSE: {rmse:2f}\")\n",
    "print(f\"R-squared (R2): {r2:.2f}\")"
   ]
  },
  {
   "cell_type": "markdown",
   "id": "d3333122",
   "metadata": {},
   "source": [
    "# Cross validation"
   ]
  },
  {
   "cell_type": "code",
   "execution_count": 14,
   "id": "9cbc0c27",
   "metadata": {},
   "outputs": [
    {
     "name": "stdout",
     "output_type": "stream",
     "text": [
      "Cross-Validation R-squared crosses:\n",
      "[0.9926805  0.99167464 0.99343083 0.99143809 0.99090601]\n"
     ]
    }
   ],
   "source": [
    "cross_val_scores = cross_val_score(lasso_cv_model, X_train, y_train, cv=5, scoring='r2')\n",
    "print(\"Cross-Validation R-squared crosses:\")\n",
    "print(cross_val_scores)"
   ]
  },
  {
   "cell_type": "code",
   "execution_count": 15,
   "id": "de22857c",
   "metadata": {},
   "outputs": [
    {
     "name": "stdout",
     "output_type": "stream",
     "text": [
      "Mean R-squared: 0.9920\n",
      "Standard Deviation of R-squared: 0.0009\n"
     ]
    }
   ],
   "source": [
    "mean_r2 = cross_val_scores.mean()\n",
    "std_r2 = cross_val_scores.std()\n",
    "\n",
    "print(f\"Mean R-squared: {mean_r2:.4f}\")\n",
    "print(f\"Standard Deviation of R-squared: {std_r2:.4f}\")"
   ]
  },
  {
   "cell_type": "code",
   "execution_count": 16,
   "id": "00170739",
   "metadata": {},
   "outputs": [
    {
     "name": "stdout",
     "output_type": "stream",
     "text": [
      "0.406066854985627\n",
      "13.053785085574573\n"
     ]
    }
   ],
   "source": [
    "print(0.1 * rmse)\n",
    "print(0.1 * df['target'].mean()) \n",
    "# rmse should be less than the 10% of mean of target variable"
   ]
  },
  {
   "cell_type": "markdown",
   "id": "8bf30656",
   "metadata": {},
   "source": [
    "# Most Prominent features and least prominent features"
   ]
  },
  {
   "cell_type": "code",
   "execution_count": 18,
   "id": "be900228",
   "metadata": {},
   "outputs": [],
   "source": [
    "#cpoefficients and corresponding feature names\n",
    "lasso_coefficients = lasso_cv_model.coef_\n",
    "feature_names = X.columns\n",
    "\n",
    "coefficients_df = pd.DataFrame({'Features': feature_names, 'Coefficient': lasso_coefficients})\n",
    "\n",
    "non_zero_coefficients_df = coefficients_df[coefficients_df['Coefficient'] != 0]\n",
    "zero_coefficients_df = coefficients_df[coefficients_df['Coefficient'] == 0]"
   ]
  },
  {
   "cell_type": "code",
   "execution_count": 19,
   "id": "f185da48",
   "metadata": {},
   "outputs": [
    {
     "data": {
      "text/html": [
       "<div>\n",
       "<style scoped>\n",
       "    .dataframe tbody tr th:only-of-type {\n",
       "        vertical-align: middle;\n",
       "    }\n",
       "\n",
       "    .dataframe tbody tr th {\n",
       "        vertical-align: top;\n",
       "    }\n",
       "\n",
       "    .dataframe thead th {\n",
       "        text-align: right;\n",
       "    }\n",
       "</style>\n",
       "<table border=\"1\" class=\"dataframe\">\n",
       "  <thead>\n",
       "    <tr style=\"text-align: right;\">\n",
       "      <th></th>\n",
       "      <th>Features</th>\n",
       "      <th>Coefficient</th>\n",
       "    </tr>\n",
       "  </thead>\n",
       "  <tbody>\n",
       "    <tr>\n",
       "      <th>0</th>\n",
       "      <td>p_saving_rate</td>\n",
       "      <td>-0.471298</td>\n",
       "    </tr>\n",
       "    <tr>\n",
       "      <th>1</th>\n",
       "      <td>mortgage_rate</td>\n",
       "      <td>-2.371527</td>\n",
       "    </tr>\n",
       "    <tr>\n",
       "      <th>3</th>\n",
       "      <td>population</td>\n",
       "      <td>-18.688178</td>\n",
       "    </tr>\n",
       "    <tr>\n",
       "      <th>4</th>\n",
       "      <td>new_private_house</td>\n",
       "      <td>3.344283</td>\n",
       "    </tr>\n",
       "    <tr>\n",
       "      <th>5</th>\n",
       "      <td>emratio</td>\n",
       "      <td>-2.735488</td>\n",
       "    </tr>\n",
       "    <tr>\n",
       "      <th>6</th>\n",
       "      <td>income</td>\n",
       "      <td>6.840921</td>\n",
       "    </tr>\n",
       "    <tr>\n",
       "      <th>7</th>\n",
       "      <td>GDP</td>\n",
       "      <td>25.842149</td>\n",
       "    </tr>\n",
       "    <tr>\n",
       "      <th>8</th>\n",
       "      <td>home_ow_rate</td>\n",
       "      <td>0.043459</td>\n",
       "    </tr>\n",
       "    <tr>\n",
       "      <th>9</th>\n",
       "      <td>house_st</td>\n",
       "      <td>1.309818</td>\n",
       "    </tr>\n",
       "    <tr>\n",
       "      <th>11</th>\n",
       "      <td>labor_percent</td>\n",
       "      <td>8.947285</td>\n",
       "    </tr>\n",
       "    <tr>\n",
       "      <th>12</th>\n",
       "      <td>all_Const_Emp</td>\n",
       "      <td>8.389674</td>\n",
       "    </tr>\n",
       "    <tr>\n",
       "      <th>13</th>\n",
       "      <td>monthly_supply</td>\n",
       "      <td>4.290977</td>\n",
       "    </tr>\n",
       "    <tr>\n",
       "      <th>14</th>\n",
       "      <td>unemployed_rate</td>\n",
       "      <td>6.222220</td>\n",
       "    </tr>\n",
       "    <tr>\n",
       "      <th>15</th>\n",
       "      <td>MSPUS</td>\n",
       "      <td>33.985039</td>\n",
       "    </tr>\n",
       "  </tbody>\n",
       "</table>\n",
       "</div>"
      ],
      "text/plain": [
       "             Features  Coefficient\n",
       "0       p_saving_rate    -0.471298\n",
       "1       mortgage_rate    -2.371527\n",
       "3          population   -18.688178\n",
       "4   new_private_house     3.344283\n",
       "5             emratio    -2.735488\n",
       "6              income     6.840921\n",
       "7                 GDP    25.842149\n",
       "8        home_ow_rate     0.043459\n",
       "9            house_st     1.309818\n",
       "11      labor_percent     8.947285\n",
       "12      all_Const_Emp     8.389674\n",
       "13     monthly_supply     4.290977\n",
       "14    unemployed_rate     6.222220\n",
       "15              MSPUS    33.985039"
      ]
     },
     "execution_count": 19,
     "metadata": {},
     "output_type": "execute_result"
    }
   ],
   "source": [
    "non_zero_coefficients_df"
   ]
  },
  {
   "cell_type": "code",
   "execution_count": 20,
   "id": "b7dae851",
   "metadata": {},
   "outputs": [
    {
     "data": {
      "text/html": [
       "<div>\n",
       "<style scoped>\n",
       "    .dataframe tbody tr th:only-of-type {\n",
       "        vertical-align: middle;\n",
       "    }\n",
       "\n",
       "    .dataframe tbody tr th {\n",
       "        vertical-align: top;\n",
       "    }\n",
       "\n",
       "    .dataframe thead th {\n",
       "        text-align: right;\n",
       "    }\n",
       "</style>\n",
       "<table border=\"1\" class=\"dataframe\">\n",
       "  <thead>\n",
       "    <tr style=\"text-align: right;\">\n",
       "      <th></th>\n",
       "      <th>Features</th>\n",
       "      <th>Coefficient</th>\n",
       "    </tr>\n",
       "  </thead>\n",
       "  <tbody>\n",
       "    <tr>\n",
       "      <th>2</th>\n",
       "      <td>permit</td>\n",
       "      <td>-0.0</td>\n",
       "    </tr>\n",
       "    <tr>\n",
       "      <th>10</th>\n",
       "      <td>total_emp_cons</td>\n",
       "      <td>0.0</td>\n",
       "    </tr>\n",
       "  </tbody>\n",
       "</table>\n",
       "</div>"
      ],
      "text/plain": [
       "          Features  Coefficient\n",
       "2           permit         -0.0\n",
       "10  total_emp_cons          0.0"
      ]
     },
     "execution_count": 20,
     "metadata": {},
     "output_type": "execute_result"
    }
   ],
   "source": [
    "zero_coefficients_df"
   ]
  },
  {
   "cell_type": "markdown",
   "id": "9eb91d52",
   "metadata": {},
   "source": [
    "# Predicted vs Observed"
   ]
  },
  {
   "cell_type": "code",
   "execution_count": 22,
   "id": "a00c3e15",
   "metadata": {},
   "outputs": [
    {
     "data": {
      "image/png": "[encoded data removed]",
      "text/plain": [
       "<Figure size 576x432 with 1 Axes>"
      ]
     },
     "metadata": {
      "needs_background": "light"
     },
     "output_type": "display_data"
    }
   ],
   "source": [
    "import numpy as np\n",
    "import matplotlib.pyplot as plt\n",
    "\n",
    "plt.figure(figsize=(8, 6))\n",
    "plt.scatter(y_test, lasso_cv_predictions, alpha=0.5)\n",
    "plt.xlabel(\"Observed Values\")\n",
    "plt.ylabel(\"Predicted Values\")\n",
    "plt.title(\"Predicted vs. Observed values\")\n",
    "plt.grid(True)\n",
    "\n",
    "#Add a diagonal line for refrence (prefectr prediction)\n",
    "x=np.linspace(min(y_test), max(y_test), 100)\n",
    "plt.plot(x, x, color='red', linestyle='--')\n",
    "\n",
    "plt.show()"
   ]
  },
  {
   "cell_type": "code",
   "execution_count": null,
   "id": "1e108306",
   "metadata": {},
   "outputs": [],
   "source": []
  }
 ],
 "metadata": {
  "kernelspec": {
   "display_name": "Python 3 (ipykernel)",
   "language": "python",
   "name": "python3"
  },
  "language_info": {
   "codemirror_mode": {
    "name": "ipython",
    "version": 3
   },
   "file_extension": ".py",
   "mimetype": "text/x-python",
   "name": "python",
   "nbconvert_exporter": "python",
   "pygments_lexer": "ipython3",
   "version": "3.9.12"
  }
 },
 "nbformat": 4,
 "nbformat_minor": 5
}
