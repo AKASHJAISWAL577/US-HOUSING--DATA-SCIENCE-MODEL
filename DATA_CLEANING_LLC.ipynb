{
 "cells": [
  {
   "cell_type": "markdown",
   "id": "3a3aa8c4",
   "metadata": {},
   "source": [
    "# DATA CLEANING"
   ]
  },
  {
   "cell_type": "code",
   "execution_count": 1,
   "id": "5de6ffaa",
   "metadata": {},
   "outputs": [],
   "source": [
    "import pandas as pd\n",
    "import os"
   ]
  },
  {
   "cell_type": "code",
   "execution_count": 2,
   "id": "66e9d335",
   "metadata": {},
   "outputs": [],
   "source": [
    "# Creating Directory Cleaned data for storing cleaned Data\n",
    "\n",
    "directory_path = \"CLEANED DATA\"\n",
    "os.makedirs(directory_path, exist_ok=True)"
   ]
  },
  {
   "cell_type": "markdown",
   "id": "f908b627",
   "metadata": {},
   "source": [
    "# Target"
   ]
  },
  {
   "cell_type": "markdown",
   "id": "398f88a0",
   "metadata": {},
   "source": [
    "# S&P/Case-Schiller U.S.National Home Price Index"
   ]
  },
  {
   "cell_type": "code",
   "execution_count": 3,
   "id": "8bb09af2",
   "metadata": {
    "scrolled": true
   },
   "outputs": [],
   "source": [
    "# Reading target data\n",
    "target = pd.read_csv(\"TARGET.csv\")"
   ]
  },
  {
   "cell_type": "code",
   "execution_count": 4,
   "id": "30837e69",
   "metadata": {},
   "outputs": [
    {
     "data": {
      "text/html": [
       "<div>\n",
       "<style scoped>\n",
       "    .dataframe tbody tr th:only-of-type {\n",
       "        vertical-align: middle;\n",
       "    }\n",
       "\n",
       "    .dataframe tbody tr th {\n",
       "        vertical-align: top;\n",
       "    }\n",
       "\n",
       "    .dataframe thead th {\n",
       "        text-align: right;\n",
       "    }\n",
       "</style>\n",
       "<table border=\"1\" class=\"dataframe\">\n",
       "  <thead>\n",
       "    <tr style=\"text-align: right;\">\n",
       "      <th></th>\n",
       "      <th>DATE</th>\n",
       "      <th>target</th>\n",
       "    </tr>\n",
       "  </thead>\n",
       "  <tbody>\n",
       "    <tr>\n",
       "      <th>0</th>\n",
       "      <td>1987-01-01</td>\n",
       "      <td>63.735</td>\n",
       "    </tr>\n",
       "    <tr>\n",
       "      <th>1</th>\n",
       "      <td>1987-02-01</td>\n",
       "      <td>64.135</td>\n",
       "    </tr>\n",
       "    <tr>\n",
       "      <th>2</th>\n",
       "      <td>1987-03-01</td>\n",
       "      <td>64.470</td>\n",
       "    </tr>\n",
       "    <tr>\n",
       "      <th>3</th>\n",
       "      <td>1987-04-01</td>\n",
       "      <td>64.973</td>\n",
       "    </tr>\n",
       "    <tr>\n",
       "      <th>4</th>\n",
       "      <td>1987-05-01</td>\n",
       "      <td>65.547</td>\n",
       "    </tr>\n",
       "  </tbody>\n",
       "</table>\n",
       "</div>"
      ],
      "text/plain": [
       "         DATE  target\n",
       "0  1987-01-01  63.735\n",
       "1  1987-02-01  64.135\n",
       "2  1987-03-01  64.470\n",
       "3  1987-04-01  64.973\n",
       "4  1987-05-01  65.547"
      ]
     },
     "execution_count": 4,
     "metadata": {},
     "output_type": "execute_result"
    }
   ],
   "source": [
    "target.head()"
   ]
  },
  {
   "cell_type": "code",
   "execution_count": 5,
   "id": "cda6e5ed",
   "metadata": {},
   "outputs": [],
   "source": [
    "# Setting DATE as index, column renaming, setting DATE as index, filtering data\n",
    "\n",
    "target.set_index('DATE', inplace = True)\n",
    "target.rename(columns= {'TARGET': 'target'},inplace =True)\n",
    "target.index = pd.to_datetime(target.index)\n",
    "target = target[\"1987-01-01\":\"2023-07-01\"]"
   ]
  },
  {
   "cell_type": "code",
   "execution_count": 6,
   "id": "15d4afe1",
   "metadata": {},
   "outputs": [
    {
     "data": {
      "text/plain": [
       "(439, 1)"
      ]
     },
     "execution_count": 6,
     "metadata": {},
     "output_type": "execute_result"
    }
   ],
   "source": [
    "target.shape"
   ]
  },
  {
   "cell_type": "code",
   "execution_count": 7,
   "id": "0f102530",
   "metadata": {},
   "outputs": [],
   "source": [
    "target.to_csv(\"Cleaned data/target.csv\")"
   ]
  },
  {
   "cell_type": "markdown",
   "id": "c5da5790",
   "metadata": {},
   "source": [
    "# Population"
   ]
  },
  {
   "cell_type": "markdown",
   "id": "c07115cc",
   "metadata": {},
   "source": [
    "# Population includes resident Population plus armed forces overseas"
   ]
  },
  {
   "cell_type": "code",
   "execution_count": 8,
   "id": "6b453a17",
   "metadata": {},
   "outputs": [],
   "source": [
    "population = pd.read_csv('POPULATION.csv')"
   ]
  },
  {
   "cell_type": "code",
   "execution_count": 9,
   "id": "9bf56a4e",
   "metadata": {},
   "outputs": [
    {
     "data": {
      "text/html": [
       "<div>\n",
       "<style scoped>\n",
       "    .dataframe tbody tr th:only-of-type {\n",
       "        vertical-align: middle;\n",
       "    }\n",
       "\n",
       "    .dataframe tbody tr th {\n",
       "        vertical-align: top;\n",
       "    }\n",
       "\n",
       "    .dataframe thead th {\n",
       "        text-align: right;\n",
       "    }\n",
       "</style>\n",
       "<table border=\"1\" class=\"dataframe\">\n",
       "  <thead>\n",
       "    <tr style=\"text-align: right;\">\n",
       "      <th></th>\n",
       "      <th>DATE</th>\n",
       "      <th>income</th>\n",
       "    </tr>\n",
       "  </thead>\n",
       "  <tbody>\n",
       "    <tr>\n",
       "      <th>0</th>\n",
       "      <td>1987-01-01</td>\n",
       "      <td>241857.0</td>\n",
       "    </tr>\n",
       "    <tr>\n",
       "      <th>1</th>\n",
       "      <td>1987-02-01</td>\n",
       "      <td>242005.0</td>\n",
       "    </tr>\n",
       "    <tr>\n",
       "      <th>2</th>\n",
       "      <td>1987-03-01</td>\n",
       "      <td>242166.0</td>\n",
       "    </tr>\n",
       "    <tr>\n",
       "      <th>3</th>\n",
       "      <td>1987-04-01</td>\n",
       "      <td>242338.0</td>\n",
       "    </tr>\n",
       "    <tr>\n",
       "      <th>4</th>\n",
       "      <td>1987-05-01</td>\n",
       "      <td>242516.0</td>\n",
       "    </tr>\n",
       "  </tbody>\n",
       "</table>\n",
       "</div>"
      ],
      "text/plain": [
       "         DATE    income\n",
       "0  1987-01-01  241857.0\n",
       "1  1987-02-01  242005.0\n",
       "2  1987-03-01  242166.0\n",
       "3  1987-04-01  242338.0\n",
       "4  1987-05-01  242516.0"
      ]
     },
     "execution_count": 9,
     "metadata": {},
     "output_type": "execute_result"
    }
   ],
   "source": [
    "population.head()"
   ]
  },
  {
   "cell_type": "code",
   "execution_count": 10,
   "id": "f59afd0f",
   "metadata": {},
   "outputs": [],
   "source": [
    "# Setting Date as index,column renaming,setting DATE as index, filtering data\n",
    "\n",
    "population.set_index('DATE', inplace = True)\n",
    "population.rename(columns= {'POPULATION':'population'}, inplace = True)\n",
    "population.index = pd.to_datetime(population.index)\n",
    "population = population[\"1987-01-01\":\"2023-07-01\"]"
   ]
  },
  {
   "cell_type": "code",
   "execution_count": 11,
   "id": "75c8e0eb",
   "metadata": {},
   "outputs": [
    {
     "data": {
      "text/plain": [
       "(439, 1)"
      ]
     },
     "execution_count": 11,
     "metadata": {},
     "output_type": "execute_result"
    }
   ],
   "source": [
    "population.shape"
   ]
  },
  {
   "cell_type": "code",
   "execution_count": 12,
   "id": "ca742c3c",
   "metadata": {},
   "outputs": [],
   "source": [
    "population.to_csv(\"CLEANED DATA/population.csv\")"
   ]
  },
  {
   "cell_type": "markdown",
   "id": "66b9199d",
   "metadata": {},
   "source": [
    "# Personal Income"
   ]
  },
  {
   "cell_type": "markdown",
   "id": "84574944",
   "metadata": {},
   "source": [
    "# Income that persons recieve in return for their provision of labour,land and capital used in current production and the net current transfer payments that they recieve from biusiness and from government"
   ]
  },
  {
   "cell_type": "code",
   "execution_count": 13,
   "id": "fec8c9c8",
   "metadata": {},
   "outputs": [],
   "source": [
    "income = pd.read_csv('PINCOME.csv')"
   ]
  },
  {
   "cell_type": "code",
   "execution_count": 14,
   "id": "05d3c4ae",
   "metadata": {},
   "outputs": [
    {
     "data": {
      "text/html": [
       "<div>\n",
       "<style scoped>\n",
       "    .dataframe tbody tr th:only-of-type {\n",
       "        vertical-align: middle;\n",
       "    }\n",
       "\n",
       "    .dataframe tbody tr th {\n",
       "        vertical-align: top;\n",
       "    }\n",
       "\n",
       "    .dataframe thead th {\n",
       "        text-align: right;\n",
       "    }\n",
       "</style>\n",
       "<table border=\"1\" class=\"dataframe\">\n",
       "  <thead>\n",
       "    <tr style=\"text-align: right;\">\n",
       "      <th></th>\n",
       "      <th>DATE</th>\n",
       "      <th>PI</th>\n",
       "    </tr>\n",
       "  </thead>\n",
       "  <tbody>\n",
       "    <tr>\n",
       "      <th>0</th>\n",
       "      <td>1987-01-01</td>\n",
       "      <td>3820.2</td>\n",
       "    </tr>\n",
       "    <tr>\n",
       "      <th>1</th>\n",
       "      <td>1987-02-01</td>\n",
       "      <td>3845.0</td>\n",
       "    </tr>\n",
       "    <tr>\n",
       "      <th>2</th>\n",
       "      <td>1987-03-01</td>\n",
       "      <td>3863.8</td>\n",
       "    </tr>\n",
       "    <tr>\n",
       "      <th>3</th>\n",
       "      <td>1987-04-01</td>\n",
       "      <td>3875.4</td>\n",
       "    </tr>\n",
       "    <tr>\n",
       "      <th>4</th>\n",
       "      <td>1987-05-01</td>\n",
       "      <td>3908.6</td>\n",
       "    </tr>\n",
       "  </tbody>\n",
       "</table>\n",
       "</div>"
      ],
      "text/plain": [
       "         DATE      PI\n",
       "0  1987-01-01  3820.2\n",
       "1  1987-02-01  3845.0\n",
       "2  1987-03-01  3863.8\n",
       "3  1987-04-01  3875.4\n",
       "4  1987-05-01  3908.6"
      ]
     },
     "execution_count": 14,
     "metadata": {},
     "output_type": "execute_result"
    }
   ],
   "source": [
    "income.head()"
   ]
  },
  {
   "cell_type": "code",
   "execution_count": 15,
   "id": "4e018ccc",
   "metadata": {},
   "outputs": [],
   "source": [
    "# Settting Date as index, column renaming, setting Date as index, filtering data\n",
    "\n",
    "income.set_index('DATE', inplace = True)\n",
    "income.rename(columns= {\"PINCOME\": 'income'},inplace = True)\n",
    "income.index = pd.to_datetime(income.index)\n",
    "income = income[\"1987-01-01\":\"2023-07-01\"]"
   ]
  },
  {
   "cell_type": "code",
   "execution_count": 16,
   "id": "d8353bbf",
   "metadata": {},
   "outputs": [
    {
     "data": {
      "text/plain": [
       "(439, 1)"
      ]
     },
     "execution_count": 16,
     "metadata": {},
     "output_type": "execute_result"
    }
   ],
   "source": [
    "income.shape"
   ]
  },
  {
   "cell_type": "code",
   "execution_count": 17,
   "id": "b5f2c132",
   "metadata": {},
   "outputs": [],
   "source": [
    "income.to_csv(\"CLEANED DATA/income.csv\")"
   ]
  },
  {
   "cell_type": "markdown",
   "id": "92d00272",
   "metadata": {},
   "source": [
    "# Gross Domestic Product"
   ]
  },
  {
   "cell_type": "markdown",
   "id": "5b5580ee",
   "metadata": {},
   "source": [
    "# Featured measures of U.S.output, is the market value of the goods and services produced by labour and property located in the United States"
   ]
  },
  {
   "cell_type": "code",
   "execution_count": 18,
   "id": "a1e3c41c",
   "metadata": {},
   "outputs": [],
   "source": [
    "gdp = pd.read_csv(\"GDP.csv\")"
   ]
  },
  {
   "cell_type": "code",
   "execution_count": 19,
   "id": "a6beafbc",
   "metadata": {},
   "outputs": [
    {
     "data": {
      "text/html": [
       "<div>\n",
       "<style scoped>\n",
       "    .dataframe tbody tr th:only-of-type {\n",
       "        vertical-align: middle;\n",
       "    }\n",
       "\n",
       "    .dataframe tbody tr th {\n",
       "        vertical-align: top;\n",
       "    }\n",
       "\n",
       "    .dataframe thead th {\n",
       "        text-align: right;\n",
       "    }\n",
       "</style>\n",
       "<table border=\"1\" class=\"dataframe\">\n",
       "  <thead>\n",
       "    <tr style=\"text-align: right;\">\n",
       "      <th></th>\n",
       "      <th>DATE</th>\n",
       "      <th>GDP</th>\n",
       "    </tr>\n",
       "  </thead>\n",
       "  <tbody>\n",
       "    <tr>\n",
       "      <th>0</th>\n",
       "      <td>1987-01-01</td>\n",
       "      <td>4722.156</td>\n",
       "    </tr>\n",
       "    <tr>\n",
       "      <th>1</th>\n",
       "      <td>1987-02-01</td>\n",
       "      <td>4722.156</td>\n",
       "    </tr>\n",
       "    <tr>\n",
       "      <th>2</th>\n",
       "      <td>1987-03-01</td>\n",
       "      <td>4722.156</td>\n",
       "    </tr>\n",
       "    <tr>\n",
       "      <th>3</th>\n",
       "      <td>1987-04-01</td>\n",
       "      <td>4806.160</td>\n",
       "    </tr>\n",
       "    <tr>\n",
       "      <th>4</th>\n",
       "      <td>1987-05-01</td>\n",
       "      <td>4806.160</td>\n",
       "    </tr>\n",
       "  </tbody>\n",
       "</table>\n",
       "</div>"
      ],
      "text/plain": [
       "         DATE       GDP\n",
       "0  1987-01-01  4722.156\n",
       "1  1987-02-01  4722.156\n",
       "2  1987-03-01  4722.156\n",
       "3  1987-04-01  4806.160\n",
       "4  1987-05-01  4806.160"
      ]
     },
     "execution_count": 19,
     "metadata": {},
     "output_type": "execute_result"
    }
   ],
   "source": [
    "gdp.head()"
   ]
  },
  {
   "cell_type": "code",
   "execution_count": 20,
   "id": "63d2dfad",
   "metadata": {},
   "outputs": [],
   "source": [
    "#Setting Date as index, column renaming, setting DATE as index,filtering data\n",
    "\n",
    "gdp.set_index(\"DATE\", inplace = True)\n",
    "gdp.index = pd.to_datetime(gdp.index)\n",
    "\n",
    "# Resampling\n",
    "gdp = gdp.resample('M').ffill()\n",
    "\n",
    "## Set the day of the index to 1\n",
    "gdp.index = gdp.index.map(lambda x: x.replace(day=1))\n",
    "gdp = gdp[\"1987-01-01\":\"2023-07-01\"]"
   ]
  },
  {
   "cell_type": "code",
   "execution_count": 21,
   "id": "a025e6be",
   "metadata": {},
   "outputs": [
    {
     "data": {
      "text/plain": [
       "(439, 1)"
      ]
     },
     "execution_count": 21,
     "metadata": {},
     "output_type": "execute_result"
    }
   ],
   "source": [
    "gdp.shape"
   ]
  },
  {
   "cell_type": "code",
   "execution_count": 22,
   "id": "3825dcb4",
   "metadata": {},
   "outputs": [],
   "source": [
    "gdp.to_csv(\"CLEANED DATA/gdp.csv\")"
   ]
  },
  {
   "cell_type": "markdown",
   "id": "d59d709a",
   "metadata": {},
   "source": [
    "# Unemployment Rate"
   ]
  },
  {
   "cell_type": "markdown",
   "id": "59ba6f83",
   "metadata": {},
   "source": [
    "# The Unemployment rate represents the number of unemployed as a percentage of the labour force. (16 years age or above)"
   ]
  },
  {
   "cell_type": "code",
   "execution_count": 23,
   "id": "55954962",
   "metadata": {},
   "outputs": [],
   "source": [
    "unemployed_rate = pd.read_csv(\"UNEMPLOYED.csv\")"
   ]
  },
  {
   "cell_type": "code",
   "execution_count": 24,
   "id": "f61be59a",
   "metadata": {},
   "outputs": [
    {
     "data": {
      "text/html": [
       "<div>\n",
       "<style scoped>\n",
       "    .dataframe tbody tr th:only-of-type {\n",
       "        vertical-align: middle;\n",
       "    }\n",
       "\n",
       "    .dataframe tbody tr th {\n",
       "        vertical-align: top;\n",
       "    }\n",
       "\n",
       "    .dataframe thead th {\n",
       "        text-align: right;\n",
       "    }\n",
       "</style>\n",
       "<table border=\"1\" class=\"dataframe\">\n",
       "  <thead>\n",
       "    <tr style=\"text-align: right;\">\n",
       "      <th></th>\n",
       "      <th>DATE</th>\n",
       "      <th>UNRATE</th>\n",
       "    </tr>\n",
       "  </thead>\n",
       "  <tbody>\n",
       "    <tr>\n",
       "      <th>0</th>\n",
       "      <td>1987-01-01</td>\n",
       "      <td>6.6</td>\n",
       "    </tr>\n",
       "    <tr>\n",
       "      <th>1</th>\n",
       "      <td>1987-02-01</td>\n",
       "      <td>6.6</td>\n",
       "    </tr>\n",
       "    <tr>\n",
       "      <th>2</th>\n",
       "      <td>1987-03-01</td>\n",
       "      <td>6.6</td>\n",
       "    </tr>\n",
       "    <tr>\n",
       "      <th>3</th>\n",
       "      <td>1987-04-01</td>\n",
       "      <td>6.3</td>\n",
       "    </tr>\n",
       "    <tr>\n",
       "      <th>4</th>\n",
       "      <td>1987-05-01</td>\n",
       "      <td>6.3</td>\n",
       "    </tr>\n",
       "  </tbody>\n",
       "</table>\n",
       "</div>"
      ],
      "text/plain": [
       "         DATE  UNRATE\n",
       "0  1987-01-01     6.6\n",
       "1  1987-02-01     6.6\n",
       "2  1987-03-01     6.6\n",
       "3  1987-04-01     6.3\n",
       "4  1987-05-01     6.3"
      ]
     },
     "execution_count": 24,
     "metadata": {},
     "output_type": "execute_result"
    }
   ],
   "source": [
    "unemployed_rate.head()"
   ]
  },
  {
   "cell_type": "code",
   "execution_count": 25,
   "id": "2ecb5aef",
   "metadata": {},
   "outputs": [],
   "source": [
    "# Setting DATE as index, column renaming, setting DATE as index, filtering data\n",
    "\n",
    "unemployed_rate.set_index('DATE', inplace = True)\n",
    "unemployed_rate.rename(columns= {'UNEMPLOYED': 'unemployed_rate'}, inplace = True)\n",
    "unemployed_rate.index = pd.to_datetime(unemployed_rate.index)\n",
    "unemployed_rate = unemployed_rate['1987-01-01':\"2023-07-01\"]"
   ]
  },
  {
   "cell_type": "code",
   "execution_count": 26,
   "id": "6ff5707f",
   "metadata": {},
   "outputs": [
    {
     "data": {
      "text/plain": [
       "(439, 1)"
      ]
     },
     "execution_count": 26,
     "metadata": {},
     "output_type": "execute_result"
    }
   ],
   "source": [
    "unemployed_rate.shape"
   ]
  },
  {
   "cell_type": "code",
   "execution_count": 27,
   "id": "23340fdd",
   "metadata": {},
   "outputs": [],
   "source": [
    "unemployed_rate.to_csv(\"CLEANED DATA/unemployed_rate.csv\")"
   ]
  },
  {
   "cell_type": "markdown",
   "id": "d1a648aa",
   "metadata": {},
   "source": [
    "# Mortgage Rate"
   ]
  },
  {
   "cell_type": "markdown",
   "id": "4bdb1e79",
   "metadata": {},
   "source": [
    "# A mortgage rate is the interest rate charged for a home loan.(Percentage)"
   ]
  },
  {
   "cell_type": "code",
   "execution_count": 28,
   "id": "e13aa6d3",
   "metadata": {},
   "outputs": [],
   "source": [
    "mortgage = pd.read_csv(\"MORTGAGE.csv\")"
   ]
  },
  {
   "cell_type": "code",
   "execution_count": 29,
   "id": "80dbb7af",
   "metadata": {},
   "outputs": [
    {
     "data": {
      "text/html": [
       "<div>\n",
       "<style scoped>\n",
       "    .dataframe tbody tr th:only-of-type {\n",
       "        vertical-align: middle;\n",
       "    }\n",
       "\n",
       "    .dataframe tbody tr th {\n",
       "        vertical-align: top;\n",
       "    }\n",
       "\n",
       "    .dataframe thead th {\n",
       "        text-align: right;\n",
       "    }\n",
       "</style>\n",
       "<table border=\"1\" class=\"dataframe\">\n",
       "  <thead>\n",
       "    <tr style=\"text-align: right;\">\n",
       "      <th></th>\n",
       "      <th>DATE</th>\n",
       "      <th>mortgage_rate</th>\n",
       "    </tr>\n",
       "  </thead>\n",
       "  <tbody>\n",
       "    <tr>\n",
       "      <th>0</th>\n",
       "      <td>1987-01-01</td>\n",
       "      <td>9.2040</td>\n",
       "    </tr>\n",
       "    <tr>\n",
       "      <th>1</th>\n",
       "      <td>1987-02-01</td>\n",
       "      <td>9.0825</td>\n",
       "    </tr>\n",
       "    <tr>\n",
       "      <th>2</th>\n",
       "      <td>1987-03-01</td>\n",
       "      <td>9.0350</td>\n",
       "    </tr>\n",
       "    <tr>\n",
       "      <th>3</th>\n",
       "      <td>1987-04-01</td>\n",
       "      <td>9.8325</td>\n",
       "    </tr>\n",
       "    <tr>\n",
       "      <th>4</th>\n",
       "      <td>1987-05-01</td>\n",
       "      <td>10.5960</td>\n",
       "    </tr>\n",
       "  </tbody>\n",
       "</table>\n",
       "</div>"
      ],
      "text/plain": [
       "         DATE  mortgage_rate\n",
       "0  1987-01-01         9.2040\n",
       "1  1987-02-01         9.0825\n",
       "2  1987-03-01         9.0350\n",
       "3  1987-04-01         9.8325\n",
       "4  1987-05-01        10.5960"
      ]
     },
     "execution_count": 29,
     "metadata": {},
     "output_type": "execute_result"
    }
   ],
   "source": [
    "mortgage.head()"
   ]
  },
  {
   "cell_type": "code",
   "execution_count": 30,
   "id": "757f8d32",
   "metadata": {},
   "outputs": [],
   "source": [
    "# Setting DATE as index, column renaming, setting DATE as index, filtering data\n",
    "\n",
    "mortgage.set_index(\"DATE\", inplace = True)\n",
    "mortgage.rename(columns= {\"MORTGAGE\":\"mortgage_rate\"}, inplace = True)\n",
    "mortgage.index = pd.to_datetime(mortgage.index)\n",
    "mortgage = mortgage [\"1987-01-01\":\"2023-07-01\"]"
   ]
  },
  {
   "cell_type": "code",
   "execution_count": 31,
   "id": "fe33cca3",
   "metadata": {},
   "outputs": [
    {
     "data": {
      "text/plain": [
       "(439, 1)"
      ]
     },
     "execution_count": 31,
     "metadata": {},
     "output_type": "execute_result"
    }
   ],
   "source": [
    "mortgage.shape"
   ]
  },
  {
   "cell_type": "code",
   "execution_count": 32,
   "id": "68dff187",
   "metadata": {},
   "outputs": [],
   "source": [
    "mortgage.to_csv(\"CLEANED DATA/mortgage.csv\")"
   ]
  },
  {
   "cell_type": "markdown",
   "id": "8e280eb2",
   "metadata": {},
   "source": [
    "# Employment-Population Ratio (EMRATIO)"
   ]
  },
  {
   "cell_type": "code",
   "execution_count": 33,
   "id": "0fdb3957",
   "metadata": {},
   "outputs": [],
   "source": [
    "emratio = pd.read_csv(\"EMRATIO.csv\")"
   ]
  },
  {
   "cell_type": "code",
   "execution_count": 34,
   "id": "937def7a",
   "metadata": {},
   "outputs": [
    {
     "data": {
      "text/html": [
       "<div>\n",
       "<style scoped>\n",
       "    .dataframe tbody tr th:only-of-type {\n",
       "        vertical-align: middle;\n",
       "    }\n",
       "\n",
       "    .dataframe tbody tr th {\n",
       "        vertical-align: top;\n",
       "    }\n",
       "\n",
       "    .dataframe thead th {\n",
       "        text-align: right;\n",
       "    }\n",
       "</style>\n",
       "<table border=\"1\" class=\"dataframe\">\n",
       "  <thead>\n",
       "    <tr style=\"text-align: right;\">\n",
       "      <th></th>\n",
       "      <th>DATE</th>\n",
       "      <th>emratio</th>\n",
       "    </tr>\n",
       "  </thead>\n",
       "  <tbody>\n",
       "    <tr>\n",
       "      <th>0</th>\n",
       "      <td>1987-01-01</td>\n",
       "      <td>61.0</td>\n",
       "    </tr>\n",
       "    <tr>\n",
       "      <th>1</th>\n",
       "      <td>1987-02-01</td>\n",
       "      <td>61.1</td>\n",
       "    </tr>\n",
       "    <tr>\n",
       "      <th>2</th>\n",
       "      <td>1987-03-01</td>\n",
       "      <td>61.2</td>\n",
       "    </tr>\n",
       "    <tr>\n",
       "      <th>3</th>\n",
       "      <td>1987-04-01</td>\n",
       "      <td>61.3</td>\n",
       "    </tr>\n",
       "    <tr>\n",
       "      <th>4</th>\n",
       "      <td>1987-05-01</td>\n",
       "      <td>61.6</td>\n",
       "    </tr>\n",
       "  </tbody>\n",
       "</table>\n",
       "</div>"
      ],
      "text/plain": [
       "         DATE  emratio\n",
       "0  1987-01-01     61.0\n",
       "1  1987-02-01     61.1\n",
       "2  1987-03-01     61.2\n",
       "3  1987-04-01     61.3\n",
       "4  1987-05-01     61.6"
      ]
     },
     "execution_count": 34,
     "metadata": {},
     "output_type": "execute_result"
    }
   ],
   "source": [
    "emratio.head()"
   ]
  },
  {
   "cell_type": "code",
   "execution_count": 35,
   "id": "2b2ea6c7",
   "metadata": {},
   "outputs": [
    {
     "data": {
      "text/html": [
       "<div>\n",
       "<style scoped>\n",
       "    .dataframe tbody tr th:only-of-type {\n",
       "        vertical-align: middle;\n",
       "    }\n",
       "\n",
       "    .dataframe tbody tr th {\n",
       "        vertical-align: top;\n",
       "    }\n",
       "\n",
       "    .dataframe thead th {\n",
       "        text-align: right;\n",
       "    }\n",
       "</style>\n",
       "<table border=\"1\" class=\"dataframe\">\n",
       "  <thead>\n",
       "    <tr style=\"text-align: right;\">\n",
       "      <th></th>\n",
       "      <th>emratio</th>\n",
       "    </tr>\n",
       "    <tr>\n",
       "      <th>DATE</th>\n",
       "      <th></th>\n",
       "    </tr>\n",
       "  </thead>\n",
       "  <tbody>\n",
       "    <tr>\n",
       "      <th>1987-01-01</th>\n",
       "      <td>61.0</td>\n",
       "    </tr>\n",
       "    <tr>\n",
       "      <th>1987-02-01</th>\n",
       "      <td>61.1</td>\n",
       "    </tr>\n",
       "    <tr>\n",
       "      <th>1987-03-01</th>\n",
       "      <td>61.2</td>\n",
       "    </tr>\n",
       "    <tr>\n",
       "      <th>1987-04-01</th>\n",
       "      <td>61.3</td>\n",
       "    </tr>\n",
       "    <tr>\n",
       "      <th>1987-05-01</th>\n",
       "      <td>61.6</td>\n",
       "    </tr>\n",
       "    <tr>\n",
       "      <th>...</th>\n",
       "      <td>...</td>\n",
       "    </tr>\n",
       "    <tr>\n",
       "      <th>2023-03-01</th>\n",
       "      <td>60.4</td>\n",
       "    </tr>\n",
       "    <tr>\n",
       "      <th>2023-04-01</th>\n",
       "      <td>60.4</td>\n",
       "    </tr>\n",
       "    <tr>\n",
       "      <th>2023-05-01</th>\n",
       "      <td>60.3</td>\n",
       "    </tr>\n",
       "    <tr>\n",
       "      <th>2023-06-01</th>\n",
       "      <td>60.3</td>\n",
       "    </tr>\n",
       "    <tr>\n",
       "      <th>2023-07-01</th>\n",
       "      <td>60.4</td>\n",
       "    </tr>\n",
       "  </tbody>\n",
       "</table>\n",
       "<p>439 rows × 1 columns</p>\n",
       "</div>"
      ],
      "text/plain": [
       "            emratio\n",
       "DATE               \n",
       "1987-01-01     61.0\n",
       "1987-02-01     61.1\n",
       "1987-03-01     61.2\n",
       "1987-04-01     61.3\n",
       "1987-05-01     61.6\n",
       "...             ...\n",
       "2023-03-01     60.4\n",
       "2023-04-01     60.4\n",
       "2023-05-01     60.3\n",
       "2023-06-01     60.3\n",
       "2023-07-01     60.4\n",
       "\n",
       "[439 rows x 1 columns]"
      ]
     },
     "execution_count": 35,
     "metadata": {},
     "output_type": "execute_result"
    }
   ],
   "source": [
    "# Setting DATE as index, column renaming, setting DATE as index ,filtering data\n",
    "\n",
    "emratio.set_index('DATE', inplace = True)\n",
    "emratio.rename(columns = {\"EMRATIO\": 'emratio'}, inplace = True)\n",
    "emratio.index = pd.to_datetime(emratio.index)\n",
    "emratio[\"1987-01-01\":\"2023-07-01\"]"
   ]
  },
  {
   "cell_type": "code",
   "execution_count": 36,
   "id": "85934316",
   "metadata": {},
   "outputs": [
    {
     "data": {
      "text/plain": [
       "(439, 1)"
      ]
     },
     "execution_count": 36,
     "metadata": {},
     "output_type": "execute_result"
    }
   ],
   "source": [
    "emratio.shape"
   ]
  },
  {
   "cell_type": "code",
   "execution_count": 37,
   "id": "caf0aaa5",
   "metadata": {},
   "outputs": [],
   "source": [
    "emratio.to_csv(\"CLEANED DATA/emratio.csv\")"
   ]
  },
  {
   "cell_type": "markdown",
   "id": "8b584d50",
   "metadata": {},
   "source": [
    "# Building Construction Issued permit in US (Total Units)"
   ]
  },
  {
   "cell_type": "code",
   "execution_count": 38,
   "id": "284c3460",
   "metadata": {},
   "outputs": [],
   "source": [
    "permit = pd.read_csv(\"PERMIT.csv\")"
   ]
  },
  {
   "cell_type": "code",
   "execution_count": 39,
   "id": "f5e4165f",
   "metadata": {},
   "outputs": [
    {
     "data": {
      "text/html": [
       "<div>\n",
       "<style scoped>\n",
       "    .dataframe tbody tr th:only-of-type {\n",
       "        vertical-align: middle;\n",
       "    }\n",
       "\n",
       "    .dataframe tbody tr th {\n",
       "        vertical-align: top;\n",
       "    }\n",
       "\n",
       "    .dataframe thead th {\n",
       "        text-align: right;\n",
       "    }\n",
       "</style>\n",
       "<table border=\"1\" class=\"dataframe\">\n",
       "  <thead>\n",
       "    <tr style=\"text-align: right;\">\n",
       "      <th></th>\n",
       "      <th>DATE</th>\n",
       "      <th>permit</th>\n",
       "    </tr>\n",
       "  </thead>\n",
       "  <tbody>\n",
       "    <tr>\n",
       "      <th>0</th>\n",
       "      <td>1987-01-01</td>\n",
       "      <td>1690.0</td>\n",
       "    </tr>\n",
       "    <tr>\n",
       "      <th>1</th>\n",
       "      <td>1987-02-01</td>\n",
       "      <td>1689.0</td>\n",
       "    </tr>\n",
       "    <tr>\n",
       "      <th>2</th>\n",
       "      <td>1987-03-01</td>\n",
       "      <td>1704.0</td>\n",
       "    </tr>\n",
       "    <tr>\n",
       "      <th>3</th>\n",
       "      <td>1987-04-01</td>\n",
       "      <td>1601.0</td>\n",
       "    </tr>\n",
       "    <tr>\n",
       "      <th>4</th>\n",
       "      <td>1987-05-01</td>\n",
       "      <td>1500.0</td>\n",
       "    </tr>\n",
       "  </tbody>\n",
       "</table>\n",
       "</div>"
      ],
      "text/plain": [
       "         DATE  permit\n",
       "0  1987-01-01  1690.0\n",
       "1  1987-02-01  1689.0\n",
       "2  1987-03-01  1704.0\n",
       "3  1987-04-01  1601.0\n",
       "4  1987-05-01  1500.0"
      ]
     },
     "execution_count": 39,
     "metadata": {},
     "output_type": "execute_result"
    }
   ],
   "source": [
    "permit.head()"
   ]
  },
  {
   "cell_type": "code",
   "execution_count": 40,
   "id": "de57696f",
   "metadata": {},
   "outputs": [],
   "source": [
    "# Setting DATE as index, column renaming, setting DATE as index, filtering DATA\n",
    "\n",
    "permit.set_index(\"DATE\", inplace = True)\n",
    "permit.rename(columns= {'PERMIT':'permit'}, inplace = True)\n",
    "permit.index = pd.to_datetime(permit.index)\n",
    "permit = permit[\"1987-01-01\":\"2023-07-01\"]"
   ]
  },
  {
   "cell_type": "code",
   "execution_count": 41,
   "id": "1dee1e03",
   "metadata": {},
   "outputs": [
    {
     "data": {
      "text/plain": [
       "(439, 1)"
      ]
     },
     "execution_count": 41,
     "metadata": {},
     "output_type": "execute_result"
    }
   ],
   "source": [
    "permit.shape"
   ]
  },
  {
   "cell_type": "code",
   "execution_count": 42,
   "id": "9887a807",
   "metadata": {},
   "outputs": [],
   "source": [
    "permit.to_csv(\"CLEANED DATA/permit.csv\")"
   ]
  },
  {
   "cell_type": "markdown",
   "id": "6196f8a6",
   "metadata": {},
   "source": [
    "# Labor Force Participation Rate"
   ]
  },
  {
   "cell_type": "markdown",
   "id": "d169b3e1",
   "metadata": {},
   "source": [
    "# The participation rate is the percentage of the population that is either working or actively looking for work"
   ]
  },
  {
   "cell_type": "code",
   "execution_count": 43,
   "id": "f6c90fdd",
   "metadata": {},
   "outputs": [],
   "source": [
    "labor_percent = pd.read_csv(\"LABOUR PER.csv\")"
   ]
  },
  {
   "cell_type": "code",
   "execution_count": 44,
   "id": "72f3ca8b",
   "metadata": {},
   "outputs": [
    {
     "data": {
      "text/html": [
       "<div>\n",
       "<style scoped>\n",
       "    .dataframe tbody tr th:only-of-type {\n",
       "        vertical-align: middle;\n",
       "    }\n",
       "\n",
       "    .dataframe tbody tr th {\n",
       "        vertical-align: top;\n",
       "    }\n",
       "\n",
       "    .dataframe thead th {\n",
       "        text-align: right;\n",
       "    }\n",
       "</style>\n",
       "<table border=\"1\" class=\"dataframe\">\n",
       "  <thead>\n",
       "    <tr style=\"text-align: right;\">\n",
       "      <th></th>\n",
       "      <th>DATE</th>\n",
       "      <th>CIVPART</th>\n",
       "    </tr>\n",
       "  </thead>\n",
       "  <tbody>\n",
       "    <tr>\n",
       "      <th>0</th>\n",
       "      <td>1987-01-01</td>\n",
       "      <td>65.4</td>\n",
       "    </tr>\n",
       "    <tr>\n",
       "      <th>1</th>\n",
       "      <td>1987-02-01</td>\n",
       "      <td>65.5</td>\n",
       "    </tr>\n",
       "    <tr>\n",
       "      <th>2</th>\n",
       "      <td>1987-03-01</td>\n",
       "      <td>65.5</td>\n",
       "    </tr>\n",
       "    <tr>\n",
       "      <th>3</th>\n",
       "      <td>1987-04-01</td>\n",
       "      <td>65.4</td>\n",
       "    </tr>\n",
       "    <tr>\n",
       "      <th>4</th>\n",
       "      <td>1987-05-01</td>\n",
       "      <td>65.7</td>\n",
       "    </tr>\n",
       "  </tbody>\n",
       "</table>\n",
       "</div>"
      ],
      "text/plain": [
       "         DATE  CIVPART\n",
       "0  1987-01-01     65.4\n",
       "1  1987-02-01     65.5\n",
       "2  1987-03-01     65.5\n",
       "3  1987-04-01     65.4\n",
       "4  1987-05-01     65.7"
      ]
     },
     "execution_count": 44,
     "metadata": {},
     "output_type": "execute_result"
    }
   ],
   "source": [
    "labor_percent.head()"
   ]
  },
  {
   "cell_type": "code",
   "execution_count": 45,
   "id": "33450be7",
   "metadata": {},
   "outputs": [],
   "source": [
    "# Setting DATE as index, column renaming, setting DATe as index, filtering data\n",
    "\n",
    "labor_percent.set_index(\"DATE\" , inplace = True)\n",
    "labor_percent.rename(columns = {\"LABOUR PER\": 'labor_percent'}, inplace = True)\n",
    "labor_percent.index = pd.to_datetime(labor_percent.index)\n",
    "labor_percent = labor_percent[\"1987-01-01\":\"2023-07-01\"]"
   ]
  },
  {
   "cell_type": "code",
   "execution_count": 46,
   "id": "b1c16292",
   "metadata": {},
   "outputs": [
    {
     "data": {
      "text/plain": [
       "(439, 1)"
      ]
     },
     "execution_count": 46,
     "metadata": {},
     "output_type": "execute_result"
    }
   ],
   "source": [
    "labor_percent.shape"
   ]
  },
  {
   "cell_type": "code",
   "execution_count": 47,
   "id": "6cce2903",
   "metadata": {},
   "outputs": [],
   "source": [
    "labor_percent.to_csv(\"CLEANED DATA/labor_percent.csv\")"
   ]
  },
  {
   "cell_type": "markdown",
   "id": "1b0edf82",
   "metadata": {},
   "source": [
    "# Monthly Supply of New Houses in the United States"
   ]
  },
  {
   "cell_type": "markdown",
   "id": "9692f6c4",
   "metadata": {},
   "source": [
    "# The monthly supply is the ratio of new houses for sale to new houses sold."
   ]
  },
  {
   "cell_type": "code",
   "execution_count": 48,
   "id": "c5e199d7",
   "metadata": {},
   "outputs": [],
   "source": [
    "monthly_supply = pd.read_csv(\"MONSUP.csv\")"
   ]
  },
  {
   "cell_type": "code",
   "execution_count": 49,
   "id": "e80cfef8",
   "metadata": {},
   "outputs": [
    {
     "data": {
      "text/html": [
       "<div>\n",
       "<style scoped>\n",
       "    .dataframe tbody tr th:only-of-type {\n",
       "        vertical-align: middle;\n",
       "    }\n",
       "\n",
       "    .dataframe tbody tr th {\n",
       "        vertical-align: top;\n",
       "    }\n",
       "\n",
       "    .dataframe thead th {\n",
       "        text-align: right;\n",
       "    }\n",
       "</style>\n",
       "<table border=\"1\" class=\"dataframe\">\n",
       "  <thead>\n",
       "    <tr style=\"text-align: right;\">\n",
       "      <th></th>\n",
       "      <th>DATE</th>\n",
       "      <th>MSACSR</th>\n",
       "    </tr>\n",
       "  </thead>\n",
       "  <tbody>\n",
       "    <tr>\n",
       "      <th>0</th>\n",
       "      <td>1987-01-01</td>\n",
       "      <td>6.0</td>\n",
       "    </tr>\n",
       "    <tr>\n",
       "      <th>1</th>\n",
       "      <td>1987-02-01</td>\n",
       "      <td>6.2</td>\n",
       "    </tr>\n",
       "    <tr>\n",
       "      <th>2</th>\n",
       "      <td>1987-03-01</td>\n",
       "      <td>6.0</td>\n",
       "    </tr>\n",
       "    <tr>\n",
       "      <th>3</th>\n",
       "      <td>1987-04-01</td>\n",
       "      <td>6.0</td>\n",
       "    </tr>\n",
       "    <tr>\n",
       "      <th>4</th>\n",
       "      <td>1987-05-01</td>\n",
       "      <td>6.7</td>\n",
       "    </tr>\n",
       "  </tbody>\n",
       "</table>\n",
       "</div>"
      ],
      "text/plain": [
       "         DATE  MSACSR\n",
       "0  1987-01-01     6.0\n",
       "1  1987-02-01     6.2\n",
       "2  1987-03-01     6.0\n",
       "3  1987-04-01     6.0\n",
       "4  1987-05-01     6.7"
      ]
     },
     "execution_count": 49,
     "metadata": {},
     "output_type": "execute_result"
    }
   ],
   "source": [
    "monthly_supply.head()"
   ]
  },
  {
   "cell_type": "markdown",
   "id": "d82ed8ff",
   "metadata": {},
   "source": [
    "# Setting DATE as index, column renaming, setting DATE as index, filtering data"
   ]
  },
  {
   "cell_type": "code",
   "execution_count": 50,
   "id": "0c529968",
   "metadata": {},
   "outputs": [],
   "source": [
    "monthly_supply.set_index('DATE', inplace = True)\n",
    "monthly_supply.rename(columns = {'MSACSR' : 'monthly_supply'}, inplace = True)\n",
    "monthly_supply.index = pd.to_datetime(monthly_supply.index)\n",
    "monthly_supply = monthly_supply[\"1987-01-01\":\"2023-07-01\"]"
   ]
  },
  {
   "cell_type": "code",
   "execution_count": 51,
   "id": "0c3aba77",
   "metadata": {},
   "outputs": [
    {
     "data": {
      "text/plain": [
       "(439, 1)"
      ]
     },
     "execution_count": 51,
     "metadata": {},
     "output_type": "execute_result"
    }
   ],
   "source": [
    "monthly_supply.shape"
   ]
  },
  {
   "cell_type": "code",
   "execution_count": 52,
   "id": "ba4efda7",
   "metadata": {},
   "outputs": [],
   "source": [
    "monthly_supply.to_csv(\"CLEANED DATA/monthly_supply.csv\")"
   ]
  },
  {
   "cell_type": "markdown",
   "id": "437892a4",
   "metadata": {},
   "source": [
    "# Housing starts (New Housing Project)"
   ]
  },
  {
   "cell_type": "markdown",
   "id": "ed1294bb",
   "metadata": {},
   "source": [
    "# This is ameasure of tghe number of uniots of new housing projects started in a given period"
   ]
  },
  {
   "cell_type": "code",
   "execution_count": 53,
   "id": "7b2fddf1",
   "metadata": {},
   "outputs": [],
   "source": [
    "House_starts = pd.read_csv(\"HOUST.csv\")"
   ]
  },
  {
   "cell_type": "code",
   "execution_count": 54,
   "id": "5fb01be9",
   "metadata": {},
   "outputs": [
    {
     "data": {
      "text/html": [
       "<div>\n",
       "<style scoped>\n",
       "    .dataframe tbody tr th:only-of-type {\n",
       "        vertical-align: middle;\n",
       "    }\n",
       "\n",
       "    .dataframe tbody tr th {\n",
       "        vertical-align: top;\n",
       "    }\n",
       "\n",
       "    .dataframe thead th {\n",
       "        text-align: right;\n",
       "    }\n",
       "</style>\n",
       "<table border=\"1\" class=\"dataframe\">\n",
       "  <thead>\n",
       "    <tr style=\"text-align: right;\">\n",
       "      <th></th>\n",
       "      <th>DATE</th>\n",
       "      <th>HOUST</th>\n",
       "    </tr>\n",
       "  </thead>\n",
       "  <tbody>\n",
       "    <tr>\n",
       "      <th>0</th>\n",
       "      <td>1987-01-01</td>\n",
       "      <td>1774.0</td>\n",
       "    </tr>\n",
       "    <tr>\n",
       "      <th>1</th>\n",
       "      <td>1987-02-01</td>\n",
       "      <td>1784.0</td>\n",
       "    </tr>\n",
       "    <tr>\n",
       "      <th>2</th>\n",
       "      <td>1987-03-01</td>\n",
       "      <td>1726.0</td>\n",
       "    </tr>\n",
       "    <tr>\n",
       "      <th>3</th>\n",
       "      <td>1987-04-01</td>\n",
       "      <td>1614.0</td>\n",
       "    </tr>\n",
       "    <tr>\n",
       "      <th>4</th>\n",
       "      <td>1987-05-01</td>\n",
       "      <td>1628.0</td>\n",
       "    </tr>\n",
       "  </tbody>\n",
       "</table>\n",
       "</div>"
      ],
      "text/plain": [
       "         DATE   HOUST\n",
       "0  1987-01-01  1774.0\n",
       "1  1987-02-01  1784.0\n",
       "2  1987-03-01  1726.0\n",
       "3  1987-04-01  1614.0\n",
       "4  1987-05-01  1628.0"
      ]
     },
     "execution_count": 54,
     "metadata": {},
     "output_type": "execute_result"
    }
   ],
   "source": [
    "House_starts.head()"
   ]
  },
  {
   "cell_type": "code",
   "execution_count": 55,
   "id": "7eb59ff6",
   "metadata": {},
   "outputs": [],
   "source": [
    "# Settind DATE as index, column renaming, setting DATE as index, filtering DATA\n",
    "\n",
    "House_starts.set_index(\"DATE\", inplace = True)\n",
    "House_starts.rename(columns={\"HOUST\": 'house_st'}, inplace = True)\n",
    "House_starts.index = pd.to_datetime(House_starts.index)\n",
    "House_starts = House_starts[\"1987-01-01\":\"2023-07-01\"]"
   ]
  },
  {
   "cell_type": "code",
   "execution_count": 56,
   "id": "08d051fc",
   "metadata": {},
   "outputs": [
    {
     "data": {
      "text/plain": [
       "(439, 1)"
      ]
     },
     "execution_count": 56,
     "metadata": {},
     "output_type": "execute_result"
    }
   ],
   "source": [
    "House_starts.shape"
   ]
  },
  {
   "cell_type": "code",
   "execution_count": 57,
   "id": "53bb2e08",
   "metadata": {},
   "outputs": [],
   "source": [
    "House_starts.to_csv(\"CLEANED DATA/House_starts.csv\")"
   ]
  },
  {
   "cell_type": "markdown",
   "id": "f971fa67",
   "metadata": {},
   "source": [
    "# Median Sales Price"
   ]
  },
  {
   "cell_type": "code",
   "execution_count": 58,
   "id": "013230cf",
   "metadata": {},
   "outputs": [],
   "source": [
    "MspUS = pd.read_csv(\"MSPUS.csv\")"
   ]
  },
  {
   "cell_type": "code",
   "execution_count": 59,
   "id": "970c4027",
   "metadata": {},
   "outputs": [
    {
     "data": {
      "text/html": [
       "<div>\n",
       "<style scoped>\n",
       "    .dataframe tbody tr th:only-of-type {\n",
       "        vertical-align: middle;\n",
       "    }\n",
       "\n",
       "    .dataframe tbody tr th {\n",
       "        vertical-align: top;\n",
       "    }\n",
       "\n",
       "    .dataframe thead th {\n",
       "        text-align: right;\n",
       "    }\n",
       "</style>\n",
       "<table border=\"1\" class=\"dataframe\">\n",
       "  <thead>\n",
       "    <tr style=\"text-align: right;\">\n",
       "      <th></th>\n",
       "      <th>DATE</th>\n",
       "      <th>MSPUS</th>\n",
       "    </tr>\n",
       "  </thead>\n",
       "  <tbody>\n",
       "    <tr>\n",
       "      <th>0</th>\n",
       "      <td>1987-01-01</td>\n",
       "      <td>97900.0</td>\n",
       "    </tr>\n",
       "    <tr>\n",
       "      <th>1</th>\n",
       "      <td>1987-04-01</td>\n",
       "      <td>103400.0</td>\n",
       "    </tr>\n",
       "    <tr>\n",
       "      <th>2</th>\n",
       "      <td>1987-07-01</td>\n",
       "      <td>106000.0</td>\n",
       "    </tr>\n",
       "    <tr>\n",
       "      <th>3</th>\n",
       "      <td>1987-10-01</td>\n",
       "      <td>111500.0</td>\n",
       "    </tr>\n",
       "    <tr>\n",
       "      <th>4</th>\n",
       "      <td>1988-01-01</td>\n",
       "      <td>110000.0</td>\n",
       "    </tr>\n",
       "  </tbody>\n",
       "</table>\n",
       "</div>"
      ],
      "text/plain": [
       "         DATE     MSPUS\n",
       "0  1987-01-01   97900.0\n",
       "1  1987-04-01  103400.0\n",
       "2  1987-07-01  106000.0\n",
       "3  1987-10-01  111500.0\n",
       "4  1988-01-01  110000.0"
      ]
     },
     "execution_count": 59,
     "metadata": {},
     "output_type": "execute_result"
    }
   ],
   "source": [
    "MspUS.head()"
   ]
  },
  {
   "cell_type": "code",
   "execution_count": 60,
   "id": "e46068dd",
   "metadata": {},
   "outputs": [],
   "source": [
    "# Setting DATE as index, column renaming, setting DATE as index,filtering data \n",
    "\n",
    "MspUS.set_index('DATE', inplace = True)\n",
    "MspUS.index = pd.to_datetime(MspUS.index)\n",
    "\n",
    "# Resampling\n",
    "MspUS = MspUS.resample('M').ffill()\n",
    "\n",
    "MspUS.index = MspUS.index.map(lambda x: x.replace(day=1))\n",
    "MspUS = MspUS[\"1987-01-01\":\"2023-07-01\"]"
   ]
  },
  {
   "cell_type": "code",
   "execution_count": 61,
   "id": "3241903b",
   "metadata": {},
   "outputs": [
    {
     "data": {
      "text/plain": [
       "(439, 1)"
      ]
     },
     "execution_count": 61,
     "metadata": {},
     "output_type": "execute_result"
    }
   ],
   "source": [
    "MspUS.shape"
   ]
  },
  {
   "cell_type": "code",
   "execution_count": 62,
   "id": "113d11e2",
   "metadata": {},
   "outputs": [],
   "source": [
    "MspUS.to_csv(\"CLEANED DATA/MspUS.csv\")"
   ]
  },
  {
   "cell_type": "markdown",
   "id": "d626238b",
   "metadata": {},
   "source": [
    "# All Employees, Construction (Thousands of persons)"
   ]
  },
  {
   "cell_type": "markdown",
   "id": "4deaf5a0",
   "metadata": {},
   "source": [
    "# Construction employees in the construction sector include: Working supervisors,qualified craft workers, mechanics,helpers labors, engaged in work ,alteration, demolition, repair, maintaince."
   ]
  },
  {
   "cell_type": "code",
   "execution_count": 63,
   "id": "45f54a32",
   "metadata": {},
   "outputs": [],
   "source": [
    "total_emp_cons =pd.read_csv(\"TOTAL EMPLOY.csv\")"
   ]
  },
  {
   "cell_type": "code",
   "execution_count": 64,
   "id": "6e375169",
   "metadata": {},
   "outputs": [
    {
     "data": {
      "text/html": [
       "<div>\n",
       "<style scoped>\n",
       "    .dataframe tbody tr th:only-of-type {\n",
       "        vertical-align: middle;\n",
       "    }\n",
       "\n",
       "    .dataframe tbody tr th {\n",
       "        vertical-align: top;\n",
       "    }\n",
       "\n",
       "    .dataframe thead th {\n",
       "        text-align: right;\n",
       "    }\n",
       "</style>\n",
       "<table border=\"1\" class=\"dataframe\">\n",
       "  <thead>\n",
       "    <tr style=\"text-align: right;\">\n",
       "      <th></th>\n",
       "      <th>DATE</th>\n",
       "      <th>USCONS</th>\n",
       "    </tr>\n",
       "  </thead>\n",
       "  <tbody>\n",
       "    <tr>\n",
       "      <th>0</th>\n",
       "      <td>1939-01-01</td>\n",
       "      <td>1139</td>\n",
       "    </tr>\n",
       "    <tr>\n",
       "      <th>1</th>\n",
       "      <td>1939-02-01</td>\n",
       "      <td>1162</td>\n",
       "    </tr>\n",
       "    <tr>\n",
       "      <th>2</th>\n",
       "      <td>1939-03-01</td>\n",
       "      <td>1225</td>\n",
       "    </tr>\n",
       "    <tr>\n",
       "      <th>3</th>\n",
       "      <td>1939-04-01</td>\n",
       "      <td>1249</td>\n",
       "    </tr>\n",
       "    <tr>\n",
       "      <th>4</th>\n",
       "      <td>1939-05-01</td>\n",
       "      <td>1262</td>\n",
       "    </tr>\n",
       "  </tbody>\n",
       "</table>\n",
       "</div>"
      ],
      "text/plain": [
       "         DATE  USCONS\n",
       "0  1939-01-01    1139\n",
       "1  1939-02-01    1162\n",
       "2  1939-03-01    1225\n",
       "3  1939-04-01    1249\n",
       "4  1939-05-01    1262"
      ]
     },
     "execution_count": 64,
     "metadata": {},
     "output_type": "execute_result"
    }
   ],
   "source": [
    "total_emp_cons.head()"
   ]
  },
  {
   "cell_type": "code",
   "execution_count": 65,
   "id": "128cafbf",
   "metadata": {},
   "outputs": [],
   "source": [
    "# Setting Date as index, COLUMN renaming, setting DATEas index, filtering data\n",
    "total_emp_cons.set_index('DATE', inplace =True)\n",
    "total_emp_cons.rename(columns= {'TOTAL EMPLOY': 'total_emp_cons'}, inplace =True)\n",
    "total_emp_cons.index = pd.to_datetime(total_emp_cons.index)\n",
    "total_emp_cons = total_emp_cons[\"1987-01-01\":\"2023-07-01\"]"
   ]
  },
  {
   "cell_type": "code",
   "execution_count": 66,
   "id": "a46c250a",
   "metadata": {},
   "outputs": [
    {
     "data": {
      "text/plain": [
       "(439, 1)"
      ]
     },
     "execution_count": 66,
     "metadata": {},
     "output_type": "execute_result"
    }
   ],
   "source": [
    "total_emp_cons.shape"
   ]
  },
  {
   "cell_type": "code",
   "execution_count": 67,
   "id": "db515791",
   "metadata": {},
   "outputs": [],
   "source": [
    "total_emp_cons.to_csv(\"CLEANED DATA/total_emp_cons.csv\")"
   ]
  },
  {
   "cell_type": "markdown",
   "id": "cf52a73c",
   "metadata": {},
   "source": [
    "# Homeownership Rate (Percentage)"
   ]
  },
  {
   "cell_type": "markdown",
   "id": "93a3a116",
   "metadata": {},
   "source": [
    "# The homeownership rate is the proportion of households that is owner occupied."
   ]
  },
  {
   "cell_type": "code",
   "execution_count": 68,
   "id": "1a0f846e",
   "metadata": {},
   "outputs": [],
   "source": [
    "home_ow_rate = pd.read_csv(\"HOME OW RATE.csv\")"
   ]
  },
  {
   "cell_type": "code",
   "execution_count": 69,
   "id": "9950be91",
   "metadata": {},
   "outputs": [
    {
     "data": {
      "text/html": [
       "<div>\n",
       "<style scoped>\n",
       "    .dataframe tbody tr th:only-of-type {\n",
       "        vertical-align: middle;\n",
       "    }\n",
       "\n",
       "    .dataframe tbody tr th {\n",
       "        vertical-align: top;\n",
       "    }\n",
       "\n",
       "    .dataframe thead th {\n",
       "        text-align: right;\n",
       "    }\n",
       "</style>\n",
       "<table border=\"1\" class=\"dataframe\">\n",
       "  <thead>\n",
       "    <tr style=\"text-align: right;\">\n",
       "      <th></th>\n",
       "      <th>DATE</th>\n",
       "      <th>RSAHORUSQ156S</th>\n",
       "    </tr>\n",
       "  </thead>\n",
       "  <tbody>\n",
       "    <tr>\n",
       "      <th>0</th>\n",
       "      <td>1987-01-01</td>\n",
       "      <td>63.9</td>\n",
       "    </tr>\n",
       "    <tr>\n",
       "      <th>1</th>\n",
       "      <td>1987-04-01</td>\n",
       "      <td>63.9</td>\n",
       "    </tr>\n",
       "    <tr>\n",
       "      <th>2</th>\n",
       "      <td>1987-07-01</td>\n",
       "      <td>64.1</td>\n",
       "    </tr>\n",
       "    <tr>\n",
       "      <th>3</th>\n",
       "      <td>1987-10-01</td>\n",
       "      <td>64.1</td>\n",
       "    </tr>\n",
       "    <tr>\n",
       "      <th>4</th>\n",
       "      <td>1988-01-01</td>\n",
       "      <td>63.8</td>\n",
       "    </tr>\n",
       "  </tbody>\n",
       "</table>\n",
       "</div>"
      ],
      "text/plain": [
       "         DATE  RSAHORUSQ156S\n",
       "0  1987-01-01           63.9\n",
       "1  1987-04-01           63.9\n",
       "2  1987-07-01           64.1\n",
       "3  1987-10-01           64.1\n",
       "4  1988-01-01           63.8"
      ]
     },
     "execution_count": 69,
     "metadata": {},
     "output_type": "execute_result"
    }
   ],
   "source": [
    "home_ow_rate.head()"
   ]
  },
  {
   "cell_type": "code",
   "execution_count": 70,
   "id": "aaa8fbb7",
   "metadata": {},
   "outputs": [],
   "source": [
    "# Setting DATE as index, column renaming, setting DATE as index, filtering data\n",
    "\n",
    "home_ow_rate.set_index('DATE', inplace = True)\n",
    "home_ow_rate.index = pd.to_datetime(home_ow_rate.index)\n",
    "home_ow_rate.rename(columns = {\"HOME OW RATE\": 'home_ow_rate'}, inplace = True)\n",
    "\n",
    "#  Resampling\n",
    "home_ow_rate = home_ow_rate.resample(\"M\").ffill()\n",
    "\n",
    "# Set the day of the index as 1\n",
    "home_ow_rate.index = home_ow_rate.index.map(lambda x: x.replace(day=1))\n",
    "home_ow_rate = home_ow_rate[\"1987-01-01\":\"2023-07-01\"]"
   ]
  },
  {
   "cell_type": "code",
   "execution_count": 71,
   "id": "2d526690",
   "metadata": {},
   "outputs": [
    {
     "data": {
      "text/plain": [
       "(439, 1)"
      ]
     },
     "execution_count": 71,
     "metadata": {},
     "output_type": "execute_result"
    }
   ],
   "source": [
    "home_ow_rate.shape"
   ]
  },
  {
   "cell_type": "code",
   "execution_count": 72,
   "id": "e71570ff",
   "metadata": {},
   "outputs": [],
   "source": [
    "home_ow_rate.to_csv(\"CLEANED DATA/home_ow_rate.csv\")"
   ]
  },
  {
   "cell_type": "markdown",
   "id": "de1b80dd",
   "metadata": {},
   "source": [
    "# Pesrsonal Saving Rate"
   ]
  },
  {
   "cell_type": "markdown",
   "id": "f6ef26b3",
   "metadata": {},
   "source": [
    "Personal saving as apercentage of disposable personal income(DPI), frequently reffered to as \"the personal saving rate\", is calculated as the ratio of personal saving to DPI.Personal income is used either to provide funds to capital markets or to invest in real assets such as residences. "
   ]
  },
  {
   "cell_type": "code",
   "execution_count": 73,
   "id": "326d036b",
   "metadata": {},
   "outputs": [],
   "source": [
    "p_saving_rate = pd.read_csv(\"SAVING R.csv\")"
   ]
  },
  {
   "cell_type": "code",
   "execution_count": 74,
   "id": "95e564b1",
   "metadata": {},
   "outputs": [
    {
     "data": {
      "text/html": [
       "<div>\n",
       "<style scoped>\n",
       "    .dataframe tbody tr th:only-of-type {\n",
       "        vertical-align: middle;\n",
       "    }\n",
       "\n",
       "    .dataframe tbody tr th {\n",
       "        vertical-align: top;\n",
       "    }\n",
       "\n",
       "    .dataframe thead th {\n",
       "        text-align: right;\n",
       "    }\n",
       "</style>\n",
       "<table border=\"1\" class=\"dataframe\">\n",
       "  <thead>\n",
       "    <tr style=\"text-align: right;\">\n",
       "      <th></th>\n",
       "      <th>DATE</th>\n",
       "      <th>PSAVERT</th>\n",
       "    </tr>\n",
       "  </thead>\n",
       "  <tbody>\n",
       "    <tr>\n",
       "      <th>0</th>\n",
       "      <td>1987-01-01</td>\n",
       "      <td>9.4</td>\n",
       "    </tr>\n",
       "    <tr>\n",
       "      <th>1</th>\n",
       "      <td>1987-02-01</td>\n",
       "      <td>8.2</td>\n",
       "    </tr>\n",
       "    <tr>\n",
       "      <th>2</th>\n",
       "      <td>1987-03-01</td>\n",
       "      <td>8.1</td>\n",
       "    </tr>\n",
       "    <tr>\n",
       "      <th>3</th>\n",
       "      <td>1987-04-01</td>\n",
       "      <td>4.1</td>\n",
       "    </tr>\n",
       "    <tr>\n",
       "      <th>4</th>\n",
       "      <td>1987-05-01</td>\n",
       "      <td>7.8</td>\n",
       "    </tr>\n",
       "  </tbody>\n",
       "</table>\n",
       "</div>"
      ],
      "text/plain": [
       "         DATE  PSAVERT\n",
       "0  1987-01-01      9.4\n",
       "1  1987-02-01      8.2\n",
       "2  1987-03-01      8.1\n",
       "3  1987-04-01      4.1\n",
       "4  1987-05-01      7.8"
      ]
     },
     "execution_count": 74,
     "metadata": {},
     "output_type": "execute_result"
    }
   ],
   "source": [
    "p_saving_rate.head()"
   ]
  },
  {
   "cell_type": "code",
   "execution_count": 75,
   "id": "3d9ee96c",
   "metadata": {},
   "outputs": [],
   "source": [
    "# Setting DATE as index, columnrenaming,setting DATE as index,filtering data\n",
    "\n",
    "p_saving_rate.set_index('DATE', inplace = True)\n",
    "p_saving_rate.rename(columns = {\"SAVING R\":\"p_saving_rate\"}, inplace = True)\n",
    "p_saving_rate.index = pd.to_datetime(p_saving_rate.index)\n",
    "p_saving_rate = p_saving_rate['1987-01-01':'2023-07-01']"
   ]
  },
  {
   "cell_type": "code",
   "execution_count": 76,
   "id": "f996030d",
   "metadata": {},
   "outputs": [
    {
     "data": {
      "text/plain": [
       "(439, 1)"
      ]
     },
     "execution_count": 76,
     "metadata": {},
     "output_type": "execute_result"
    }
   ],
   "source": [
    "p_saving_rate.shape"
   ]
  },
  {
   "cell_type": "code",
   "execution_count": 77,
   "id": "5953df2f",
   "metadata": {},
   "outputs": [],
   "source": [
    "p_saving_rate.to_csv(\"CLEANED DATA/p_saving_rate.csv\")"
   ]
  },
  {
   "cell_type": "markdown",
   "id": "bdaef8ed",
   "metadata": {},
   "source": [
    "# New Privately_ Owned Housing units Under Construction:(Total Units in thousands)"
   ]
  },
  {
   "cell_type": "code",
   "execution_count": 78,
   "id": "45ba5067",
   "metadata": {},
   "outputs": [],
   "source": [
    "new_private_hw_under = pd.read_csv(\"NEW PRIVATE HO.csv\")"
   ]
  },
  {
   "cell_type": "code",
   "execution_count": 79,
   "id": "fbeba80d",
   "metadata": {},
   "outputs": [
    {
     "data": {
      "text/html": [
       "<div>\n",
       "<style scoped>\n",
       "    .dataframe tbody tr th:only-of-type {\n",
       "        vertical-align: middle;\n",
       "    }\n",
       "\n",
       "    .dataframe tbody tr th {\n",
       "        vertical-align: top;\n",
       "    }\n",
       "\n",
       "    .dataframe thead th {\n",
       "        text-align: right;\n",
       "    }\n",
       "</style>\n",
       "<table border=\"1\" class=\"dataframe\">\n",
       "  <thead>\n",
       "    <tr style=\"text-align: right;\">\n",
       "      <th></th>\n",
       "      <th>DATE</th>\n",
       "      <th>UNDCONTSA</th>\n",
       "    </tr>\n",
       "  </thead>\n",
       "  <tbody>\n",
       "    <tr>\n",
       "      <th>0</th>\n",
       "      <td>1987-01-01</td>\n",
       "      <td>1090.0</td>\n",
       "    </tr>\n",
       "    <tr>\n",
       "      <th>1</th>\n",
       "      <td>1987-02-01</td>\n",
       "      <td>1096.0</td>\n",
       "    </tr>\n",
       "    <tr>\n",
       "      <th>2</th>\n",
       "      <td>1987-03-01</td>\n",
       "      <td>1084.0</td>\n",
       "    </tr>\n",
       "    <tr>\n",
       "      <th>3</th>\n",
       "      <td>1987-04-01</td>\n",
       "      <td>1079.0</td>\n",
       "    </tr>\n",
       "    <tr>\n",
       "      <th>4</th>\n",
       "      <td>1987-05-01</td>\n",
       "      <td>1070.0</td>\n",
       "    </tr>\n",
       "  </tbody>\n",
       "</table>\n",
       "</div>"
      ],
      "text/plain": [
       "         DATE  UNDCONTSA\n",
       "0  1987-01-01     1090.0\n",
       "1  1987-02-01     1096.0\n",
       "2  1987-03-01     1084.0\n",
       "3  1987-04-01     1079.0\n",
       "4  1987-05-01     1070.0"
      ]
     },
     "execution_count": 79,
     "metadata": {},
     "output_type": "execute_result"
    }
   ],
   "source": [
    "new_private_hw_under.head()"
   ]
  },
  {
   "cell_type": "code",
   "execution_count": 80,
   "id": "9cd97419",
   "metadata": {},
   "outputs": [],
   "source": [
    "# Setting Date as index, column renaming, setting Date as index, filtering data\n",
    "\n",
    "new_private_hw_under.set_index('DATE', inplace = True)\n",
    "new_private_hw_under.rename(columns = {\"NEW PRIVATE HO\":'new_private_hw_under'}, inplace = True)\n",
    "new_private_hw_under.index = pd.to_datetime(new_private_hw_under.index)\n",
    "new_private_hw_under = new_private_hw_under[\"1987-01-01\":\"2023-07-01\"]"
   ]
  },
  {
   "cell_type": "code",
   "execution_count": 82,
   "id": "6bba7d3c",
   "metadata": {},
   "outputs": [
    {
     "data": {
      "text/plain": [
       "(439, 1)"
      ]
     },
     "execution_count": 82,
     "metadata": {},
     "output_type": "execute_result"
    }
   ],
   "source": [
    "new_private_hw_under.shape"
   ]
  },
  {
   "cell_type": "code",
   "execution_count": 83,
   "id": "65e9604f",
   "metadata": {},
   "outputs": [],
   "source": [
    "new_private_hw_under.to_csv(\"CLEANED DATA/new_private_hw_under.csv\")"
   ]
  },
  {
   "cell_type": "code",
   "execution_count": null,
   "id": "02238191",
   "metadata": {},
   "outputs": [],
   "source": []
  }
 ],
 "metadata": {
  "kernelspec": {
   "display_name": "Python 3 (ipykernel)",
   "language": "python",
   "name": "python3"
  },
  "language_info": {
   "codemirror_mode": {
    "name": "ipython",
    "version": 3
   },
   "file_extension": ".py",
   "mimetype": "text/x-python",
   "name": "python",
   "nbconvert_exporter": "python",
   "pygments_lexer": "ipython3",
   "version": "3.9.12"
  }
 },
 "nbformat": 4,
 "nbformat_minor": 5
}
